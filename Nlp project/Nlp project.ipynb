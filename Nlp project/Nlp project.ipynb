{
 "cells": [
  {
   "cell_type": "code",
   "execution_count": 1,
   "metadata": {},
   "outputs": [],
   "source": [
    "import os\n",
    "import tkinter as tk\n",
    "import re"
   ]
  },
  {
   "cell_type": "code",
   "execution_count": 2,
   "metadata": {},
   "outputs": [],
   "source": [
    "#ملف الدخل\n",
    "TmpFile=os.getcwd()+\"\\\\TmpFile.txt\"\n",
    "\n",
    "#ملف الخرج\n",
    "phoFile = os.getcwd()+\"\\\\phoneme.txt\"\n"
   ]
  },
  {
   "cell_type": "code",
   "execution_count": 6,
   "metadata": {},
   "outputs": [],
   "source": [
    "def phonetize():\n",
    "    \n",
    "    strippedText=e1.get(\"1.0\",'end-1c')\n",
    "    pattern = r\"[\\t\\n\\r-_+=÷×:؛،’‘,.؟\\'\\\"]\"\n",
    "    Text = re.sub(pattern,\" \",strippedText)\n",
    "    f= open(TmpFile, \"w\")\n",
    "    f.write(Text)\n",
    "    f.close()\n",
    "    \n",
    "    storyPath=os.getcwd()+\"\\\\TophProg\\\\Toph\\\\story.txt\"\n",
    "    file= open(storyPath, \"w\")\n",
    "    file.write(Text)\n",
    "    file.close()\n",
    "    \n",
    "    if(os.system('cmd /c \"cd TophProg/Toph & project2 & toph\"')==0):\n",
    "        with open(os.getcwd()+\"\\\\TophProg\\\\Toph\\\\story.trc\") as f:\n",
    "            lines = f.readlines()\n",
    "        e2.insert(tk.END,lines)\n",
    "\n",
    "def quit():\n",
    "    master.destroy()\n",
    "    \n",
    "master = tk.Tk()\n",
    "tk.Label(master, \n",
    "         text=\"Enter string:\").grid(row=0)\n",
    "\n",
    "\n",
    "e1 = tk.Text(master, height = 5, width = 52)\n",
    "e1.grid(row=0, column=1)\n",
    "\n",
    "tk.Label(master, \n",
    "         text=\"Phonemes: \").grid(row=1)\n",
    "e2 = tk.Text(master, height = 15, width = 52)\n",
    "e2.grid(row=1, column=1)\n",
    "\n",
    "tk.Button(master, \n",
    "          text='Quit', \n",
    "          command=quit).grid(row=2, \n",
    "                                    column=0,  \n",
    "                                    sticky=tk.W, \n",
    "                                    pady=4)\n",
    "tk.Button(master, \n",
    "          text='Phonetize', command=phonetize).grid(row=2, \n",
    "                                                       column=1, \n",
    "                                                       sticky=tk.W, \n",
    "                                                       pady=4)\n",
    "\n",
    "tk.mainloop()"
   ]
  },
  {
   "cell_type": "code",
   "execution_count": null,
   "metadata": {},
   "outputs": [],
   "source": []
  },
  {
   "cell_type": "code",
   "execution_count": null,
   "metadata": {},
   "outputs": [],
   "source": []
  },
  {
   "cell_type": "code",
   "execution_count": null,
   "metadata": {},
   "outputs": [],
   "source": []
  }
 ],
 "metadata": {
  "kernelspec": {
   "display_name": "Python 3",
   "language": "python",
   "name": "python3"
  },
  "language_info": {
   "codemirror_mode": {
    "name": "ipython",
    "version": 3
   },
   "file_extension": ".py",
   "mimetype": "text/x-python",
   "name": "python",
   "nbconvert_exporter": "python",
   "pygments_lexer": "ipython3",
   "version": "3.8.3"
  }
 },
 "nbformat": 4,
 "nbformat_minor": 5
}
